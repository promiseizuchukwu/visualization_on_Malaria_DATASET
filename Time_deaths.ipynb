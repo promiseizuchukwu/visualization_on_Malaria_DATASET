{
 "cells": [
  {
   "cell_type": "code",
   "execution_count": 1,
   "metadata": {},
   "outputs": [],
   "source": [
    "import pandas as pd\n",
    "import numpy as np\n",
    "import branca.colormap as cm\n",
    "import folium\n",
    "import geopandas as gpd\n",
    "import datetime\n",
    "from folium.plugins import TimeSliderChoropleth"
   ]
  },
  {
   "cell_type": "code",
   "execution_count": 2,
   "metadata": {},
   "outputs": [],
   "source": [
    "## load data\n",
    "death = pd.read_csv('tidytuesday/data/2018/2018-11-13/malaria_deaths.csv')\n",
    "death_age = pd.read_csv('tidytuesday/data/2018/2018-11-13/malaria_deaths_age.csv')\n",
    "inc = pd.read_csv('tidytuesday/data/2018/2018-11-13/malaria_inc.csv')"
   ]
  },
  {
   "cell_type": "code",
   "execution_count": 3,
   "metadata": {},
   "outputs": [],
   "source": [
    "## rename death_rate\n",
    "death.columns = ['death_rate' if x=='Deaths - Malaria - Sex: Both - Age: Age-standardized (Rate) (per 100,000 people)' else x for x in death.columns]"
   ]
  },
  {
   "cell_type": "code",
   "execution_count": 4,
   "metadata": {},
   "outputs": [],
   "source": [
    "sorted_df = death.sort_values(['Entity', \n",
    "                     'Year']).reset_index(drop=True)\n",
    "sorted_df['date'] = sorted_df['Year'].apply(lambda x: datetime.datetime(x+1, 1, 1))\n",
    "sorted_df['date'] = pd.to_datetime(sorted_df['date'], yearfirst=True).astype(int) / 10**9\n",
    "sorted_df['date'] = sorted_df['date'].astype(int)"
   ]
  },
  {
   "cell_type": "code",
   "execution_count": 5,
   "metadata": {},
   "outputs": [],
   "source": [
    "countries = gpd.read_file('Countries_WGS84.shp')\n",
    "countries = countries.rename(columns={'CNTRY_NAME': 'Entity'})"
   ]
  },
  {
   "cell_type": "code",
   "execution_count": 6,
   "metadata": {},
   "outputs": [],
   "source": [
    "joined_df = sorted_df.merge(countries, on='Entity')"
   ]
  },
  {
   "cell_type": "code",
   "execution_count": 7,
   "metadata": {},
   "outputs": [],
   "source": [
    "joined_df = joined_df[['Entity', 'death_rate', 'date', 'geometry']]"
   ]
  },
  {
   "cell_type": "code",
   "execution_count": 8,
   "metadata": {},
   "outputs": [],
   "source": [
    "mymap = folium.Map(tiles='cartodbpositron')\n",
    "mymap.save(outfile='infinite_scroll.html')"
   ]
  },
  {
   "cell_type": "code",
   "execution_count": 9,
   "metadata": {},
   "outputs": [],
   "source": [
    "mymap_fix_boundary = folium.Map(min_zoom=2, max_bounds=True, tiles='cartodbpositron')\n",
    "mymap_fix_boundary.save(outfile='fix_boundary.html')"
   ]
  },
  {
   "cell_type": "code",
   "execution_count": 10,
   "metadata": {},
   "outputs": [],
   "source": [
    "max_colour = max(joined_df['death_rate'])\n",
    "min_colour = min(joined_df['death_rate'])\n",
    "cmap = cm.linear.YlOrRd_09.scale(min_colour, max_colour)\n",
    "joined_df['colour'] = joined_df['death_rate'].map(cmap)"
   ]
  },
  {
   "cell_type": "code",
   "execution_count": 11,
   "metadata": {},
   "outputs": [],
   "source": [
    "country_list = joined_df['Entity'].unique().tolist()\n",
    "country_idx = range(len(country_list))\n",
    "\n",
    "style_dict = {}\n",
    "for i in country_idx:\n",
    "    country = country_list[i]\n",
    "    result = joined_df[joined_df['Entity'] == country]\n",
    "    inner_dict = {}\n",
    "    for _, r in result.iterrows():\n",
    "        inner_dict[r['date']] = {'color': r['colour'], 'opacity': 0.7}\n",
    "    style_dict[str(i)] = inner_dict\n"
   ]
  },
  {
   "cell_type": "code",
   "execution_count": 12,
   "metadata": {},
   "outputs": [],
   "source": [
    "countries_df = joined_df[['geometry']]\n",
    "countries_gdf = gpd.GeoDataFrame(countries_df)\n",
    "countries_gdf = countries_gdf.drop_duplicates().reset_index()"
   ]
  },
  {
   "cell_type": "code",
   "execution_count": 13,
   "metadata": {},
   "outputs": [],
   "source": [
    "slider_map = folium.Map(min_zoom=2, max_bounds=True, tiles='cartodbpositron')\n",
    "               \n",
    "_ = TimeSliderChoropleth(\n",
    "    data=countries_gdf.to_json(),\n",
    "    styledict=style_dict,\n",
    "\n",
    ").add_to(slider_map)\n",
    "\n",
    "_ = cmap.add_to(slider_map)\n",
    "cmap.caption = \"Malaria Deaths (per 100,000 people)- Sex: Both - Age: Age-standardized\"\n",
    "slider_map.save(outfile='malaria_deaths.html')"
   ]
  },
  {
   "cell_type": "markdown",
   "metadata": {},
   "source": [
    "Now you can go to [malaria_deaths.html](malaria_deaths.html) to see the plot."
   ]
  }
 ],
 "metadata": {
  "kernelspec": {
   "display_name": "Python 3",
   "language": "python",
   "name": "python3"
  },
  "language_info": {
   "codemirror_mode": {
    "name": "ipython",
    "version": 3
   },
   "file_extension": ".py",
   "mimetype": "text/x-python",
   "name": "python",
   "nbconvert_exporter": "python",
   "pygments_lexer": "ipython3",
   "version": "3.7.8"
  }
 },
 "nbformat": 4,
 "nbformat_minor": 4
}
